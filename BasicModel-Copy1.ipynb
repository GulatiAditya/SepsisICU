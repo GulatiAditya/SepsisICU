{
 "cells": [
  {
   "cell_type": "code",
   "execution_count": 55,
   "metadata": {},
   "outputs": [],
   "source": [
    "import numpy as np\n",
    "import os\n",
    "import shutil\n",
    "import pandas as pd\n",
    "import matplotlib.pyplot as plt\n",
    "\n",
    "import xgboost as xgb\n",
    "import tqdm \n",
    "from sklearn.metrics import accuracy_score\n",
    "from sklearn.metrics import confusion_matrix\n",
    "from sklearn.ensemble import RandomForestClassifier\n",
    "from sklearn.impute import SimpleImputer\n",
    "import pickle"
   ]
  },
  {
   "cell_type": "code",
   "execution_count": 56,
   "metadata": {},
   "outputs": [],
   "source": [
    "def load_challenge_data(file):\n",
    "    with open(file, 'r') as f:\n",
    "        header = f.readline().strip()\n",
    "        column_names = header.split('|')\n",
    "        data = np.loadtxt(f, delimiter='|')\n",
    "\n",
    "#     # Ignore SepsisLabel column if present.\n",
    "#     if column_names[-1] == 'SepsisLabel':\n",
    "#         column_names = column_names[:-1]\n",
    "#         data = data[:, :-1]\n",
    "\n",
    "    return data"
   ]
  },
  {
   "cell_type": "code",
   "execution_count": 57,
   "metadata": {},
   "outputs": [],
   "source": [
    "def save_challenge_predictions(file, scores, labels):\n",
    "    with open(file, 'w') as f:\n",
    "        f.write('PredictedProbability|PredictedLabel\\n')\n",
    "        for (s, l) in zip(scores, labels):\n",
    "            f.write('%g|%d\\n' % (s, l))"
   ]
  },
  {
   "cell_type": "code",
   "execution_count": 58,
   "metadata": {},
   "outputs": [],
   "source": [
    "def get_files(inpt_directory):\n",
    "    files = []\n",
    "    for f in os.listdir(inpt_directory):\n",
    "        if os.path.isfile(os.path.join(inpt_directory, f)) and not f.lower().startswith('.') and f.lower().endswith('psv'):\n",
    "            files.append(f)\n",
    "    return files"
   ]
  },
  {
   "cell_type": "code",
   "execution_count": 59,
   "metadata": {},
   "outputs": [],
   "source": [
    "def load_data(inpt_directory):\n",
    "    x = []\n",
    "    y = []\n",
    "\n",
    "    files = []\n",
    "    for f in os.listdir(inpt_directory):\n",
    "        if os.path.isfile(os.path.join(inpt_directory, f)) and not f.lower().startswith('.') and f.lower().endswith('psv'):\n",
    "            files.append(f)\n",
    "\n",
    "    print('Reading files...')\n",
    "    num_files = len(files)\n",
    "\n",
    "    for i,f in enumerate(files):\n",
    "        input_file = os.path.join(inpt_directory, f)\n",
    "        data = load_challenge_data(input_file)\n",
    "        y.append(data[:,-1])\n",
    "        x.append(data[:,:-1])\n",
    "\n",
    "    x = np.array(x)\n",
    "    y = np.array(y)\n",
    "\n",
    "    return x,y"
   ]
  },
  {
   "cell_type": "code",
   "execution_count": 60,
   "metadata": {},
   "outputs": [
    {
     "name": "stdout",
     "output_type": "stream",
     "text": [
      "Reading files...\n",
      "(28234,)\n",
      "(28234,)\n"
     ]
    },
    {
     "name": "stderr",
     "output_type": "stream",
     "text": [
      "/home/aditya/anaconda3/lib/python3.7/site-packages/ipykernel_launcher.py:19: VisibleDeprecationWarning: Creating an ndarray from ragged nested sequences (which is a list-or-tuple of lists-or-tuples-or ndarrays with different lengths or shapes) is deprecated. If you meant to do this, you must specify 'dtype=object' when creating the ndarray.\n",
      "/home/aditya/anaconda3/lib/python3.7/site-packages/ipykernel_launcher.py:20: VisibleDeprecationWarning: Creating an ndarray from ragged nested sequences (which is a list-or-tuple of lists-or-tuples-or ndarrays with different lengths or shapes) is deprecated. If you meant to do this, you must specify 'dtype=object' when creating the ndarray.\n"
     ]
    }
   ],
   "source": [
    "#\n",
    "input_directory = \"./sepsis_data/train\"\n",
    "\n",
    "xTrain, yTrain = load_data(input_directory)\n",
    "print(xTrain.shape)\n",
    "print(yTrain.shape)"
   ]
  },
  {
   "cell_type": "code",
   "execution_count": 61,
   "metadata": {},
   "outputs": [],
   "source": [
    "def missing_value_imputation(data):\n",
    "    df = pd.DataFrame(data)\n",
    "    df = df.fillna(method='ffill')\n",
    "    df = df.fillna(method='bfill')\n",
    "    return df"
   ]
  },
  {
   "cell_type": "code",
   "execution_count": 62,
   "metadata": {},
   "outputs": [
    {
     "name": "stderr",
     "output_type": "stream",
     "text": [
      "100%|██████████| 28234/28234 [01:38<00:00, 286.85it/s]\n"
     ]
    }
   ],
   "source": [
    "n = xTrain.shape[0]\n",
    "\n",
    "new_XTrain = []\n",
    "new_YTrain = []\n",
    "for idx in tqdm.tqdm(range(n)):\n",
    "    record = xTrain[idx]\n",
    "    imputated = missing_value_imputation(record)\n",
    "    for j in range(imputated.shape[0]):\n",
    "        new_XTrain.append(imputated.loc[j,:])\n",
    "        new_YTrain.append(yTrain[idx][j])\n",
    "\n",
    "new_XTrain = np.array(new_XTrain)\n",
    "new_XTrain = np.nan_to_num(new_XTrain)\n",
    "new_YTrain = np.array(new_YTrain)"
   ]
  },
  {
   "cell_type": "code",
   "execution_count": 9,
   "metadata": {},
   "outputs": [],
   "source": [
    "# imp = SimpleImputer(missing_values=np.nan, strategy='mean')\n",
    "# imp = imp.fit(new_XTrain)\n",
    "# new_XTrain = imp.transform(new_XTrain)"
   ]
  },
  {
   "cell_type": "code",
   "execution_count": 63,
   "metadata": {},
   "outputs": [
    {
     "data": {
      "text/plain": [
       "array([ 8.42581490e+01,  9.71503540e+01,  3.66763621e+01,  1.22874056e+02,\n",
       "        8.25452344e+01,  5.33322001e+01,  1.86384461e+01,  3.38655353e+00,\n",
       "       -4.23147217e-02,  1.26203603e+01,  2.43276230e-01,  3.87112525e+00,\n",
       "        2.07199861e+01,  3.46390919e+01,  5.50923259e+01,  2.22092884e+01,\n",
       "        3.79324025e+01,  7.27455526e+00,  5.80359381e+01,  1.40047108e+00,\n",
       "        1.06302751e-01,  1.28353074e+02,  7.16157176e-01,  1.85006575e+00,\n",
       "        2.67155108e+00,  3.96554153e+00,  6.29336732e-01,  1.02547947e+00,\n",
       "        3.06139571e+01,  1.02114001e+01,  2.03698281e+01,  1.06732081e+01,\n",
       "        4.40202709e+01,  1.98588457e+02,  6.19712180e+01,  5.58426613e-01,\n",
       "        3.01380499e-01,  3.03288356e-01, -5.54988678e+01,  2.70239639e+01])"
      ]
     },
     "execution_count": 63,
     "metadata": {},
     "output_type": "execute_result"
    }
   ],
   "source": [
    "np.mean(new_XTrain,axis=0)"
   ]
  },
  {
   "cell_type": "code",
   "execution_count": 11,
   "metadata": {},
   "outputs": [
    {
     "data": {
      "text/plain": [
       "RandomForestClassifier(class_weight='balanced')"
      ]
     },
     "execution_count": 11,
     "metadata": {},
     "output_type": "execute_result"
    }
   ],
   "source": [
    "# model = RandomForestClassifier(n_estimators=100,class_weight='balanced')\n",
    "# model.fit(new_XTrain, new_YTrain)"
   ]
  },
  {
   "cell_type": "code",
   "execution_count": 64,
   "metadata": {},
   "outputs": [],
   "source": [
    "model = xgb.XGBClassifier()\n",
    "model.fit(new_XTrain, new_YTrain)\n",
    "\n",
    "y_pred = model.predict(new_XTrain)\n",
    "predictions = [round(value) for value in y_pred]"
   ]
  },
  {
   "cell_type": "code",
   "execution_count": 65,
   "metadata": {},
   "outputs": [
    {
     "name": "stdout",
     "output_type": "stream",
     "text": [
      "Accuracy: 98.79%\n"
     ]
    }
   ],
   "source": [
    "# evaluate predictions\n",
    "accuracy = accuracy_score(new_YTrain, predictions)\n",
    "print(\"Accuracy: %.2f%%\" % (accuracy * 100.0))"
   ]
  },
  {
   "cell_type": "code",
   "execution_count": 66,
   "metadata": {},
   "outputs": [
    {
     "data": {
      "text/plain": [
       "19543.0"
      ]
     },
     "execution_count": 66,
     "metadata": {},
     "output_type": "execute_result"
    }
   ],
   "source": [
    "np.sum(new_YTrain)"
   ]
  },
  {
   "cell_type": "code",
   "execution_count": 67,
   "metadata": {},
   "outputs": [
    {
     "data": {
      "text/plain": [
       "7190"
      ]
     },
     "execution_count": 67,
     "metadata": {},
     "output_type": "execute_result"
    }
   ],
   "source": [
    "np.sum(predictions)"
   ]
  },
  {
   "cell_type": "code",
   "execution_count": 68,
   "metadata": {},
   "outputs": [
    {
     "data": {
      "text/plain": [
       "array([[1064543,     377],\n",
       "       [  12730,    6813]])"
      ]
     },
     "execution_count": 68,
     "metadata": {},
     "output_type": "execute_result"
    }
   ],
   "source": [
    "confusion_matrix(new_YTrain,predictions)"
   ]
  },
  {
   "cell_type": "code",
   "execution_count": 69,
   "metadata": {},
   "outputs": [],
   "source": [
    "filename = './my_model_xgb.pkl'\n",
    "pickle.dump(model, open(filename, 'wb'))"
   ]
  },
  {
   "cell_type": "code",
   "execution_count": 70,
   "metadata": {},
   "outputs": [
    {
     "name": "stdout",
     "output_type": "stream",
     "text": [
      "Reading files...\n",
      "(8069,)\n",
      "(8069,)\n"
     ]
    },
    {
     "name": "stderr",
     "output_type": "stream",
     "text": [
      "/home/aditya/anaconda3/lib/python3.7/site-packages/ipykernel_launcher.py:19: VisibleDeprecationWarning: Creating an ndarray from ragged nested sequences (which is a list-or-tuple of lists-or-tuples-or ndarrays with different lengths or shapes) is deprecated. If you meant to do this, you must specify 'dtype=object' when creating the ndarray.\n",
      "/home/aditya/anaconda3/lib/python3.7/site-packages/ipykernel_launcher.py:20: VisibleDeprecationWarning: Creating an ndarray from ragged nested sequences (which is a list-or-tuple of lists-or-tuples-or ndarrays with different lengths or shapes) is deprecated. If you meant to do this, you must specify 'dtype=object' when creating the ndarray.\n"
     ]
    }
   ],
   "source": [
    "#\n",
    "input_directory_test = \"./sepsis_data/test\"\n",
    "\n",
    "xTest, yTest = load_data(input_directory_test)\n",
    "print(xTest.shape)\n",
    "print(yTest.shape)"
   ]
  },
  {
   "cell_type": "code",
   "execution_count": 71,
   "metadata": {},
   "outputs": [],
   "source": [
    "files = get_files(\"./sepsis_data/test\")"
   ]
  },
  {
   "cell_type": "code",
   "execution_count": 72,
   "metadata": {},
   "outputs": [],
   "source": [
    "output_directory = \"./model_save_xgb_test2/\""
   ]
  },
  {
   "cell_type": "code",
   "execution_count": 73,
   "metadata": {},
   "outputs": [],
   "source": [
    "if not os.path.isdir(output_directory):\n",
    "    os.mkdir(output_directory)"
   ]
  },
  {
   "cell_type": "code",
   "execution_count": 74,
   "metadata": {},
   "outputs": [
    {
     "data": {
      "text/plain": [
       "8069"
      ]
     },
     "execution_count": 74,
     "metadata": {},
     "output_type": "execute_result"
    }
   ],
   "source": [
    "len(files)"
   ]
  },
  {
   "cell_type": "code",
   "execution_count": 75,
   "metadata": {},
   "outputs": [
    {
     "name": "stderr",
     "output_type": "stream",
     "text": [
      "100%|██████████| 8069/8069 [01:09<00:00, 116.11it/s]\n"
     ]
    }
   ],
   "source": [
    "n = xTest.shape[0]\n",
    "\n",
    "\n",
    "for idx in tqdm.tqdm(range(n)):\n",
    "    new_XTest = []\n",
    "    new_YTest = []\n",
    "    record = xTest[idx]\n",
    "    imputated = missing_value_imputation(record)\n",
    "    for j in range(imputated.shape[0]):\n",
    "        new_XTest.append(np.nan_to_num(imputated.loc[j,:]))\n",
    "        new_YTest.append(yTest[idx][j])\n",
    "    y_pred_test = model.predict(np.array(new_XTest))\n",
    "    scores = model.predict_proba(np.array(new_XTest))\n",
    "#     print(np.shape(scores))\n",
    "    \n",
    "    labels = y_pred_test\n",
    "    scores_res = []\n",
    "    for i,l in enumerate(labels):\n",
    "        scores_res.append(scores[i,1])\n",
    "#     print(scores_res)\n",
    "    output_file = os.path.join(output_directory, files[idx])\n",
    "#     print(np.shape(scores_res))\n",
    "#     print(labels)\n",
    "    save_challenge_predictions(output_file,scores_res,labels)\n",
    "# new_XTest = np.array(new_XTest)\n",
    "# new_YTest = np.array(new_YTest)"
   ]
  },
  {
   "cell_type": "code",
   "execution_count": 76,
   "metadata": {},
   "outputs": [
    {
     "name": "stderr",
     "output_type": "stream",
     "text": [
      "100%|██████████| 8069/8069 [00:29<00:00, 276.78it/s]\n"
     ]
    }
   ],
   "source": [
    "n = xTest.shape[0]\n",
    "\n",
    "new_XTest = []\n",
    "new_YTest = []\n",
    "for idx in tqdm.tqdm(range(n)):\n",
    "    record = xTest[idx]\n",
    "    imputated = missing_value_imputation(record)\n",
    "    for j in range(imputated.shape[0]):\n",
    "        new_XTest.append(imputated.loc[j,:])\n",
    "        new_YTest.append(yTest[idx][j])\n",
    "\n",
    "new_XTest = np.array(new_XTest)\n",
    "new_XTest = np.nan_to_num(new_XTest)\n",
    "new_YTest = np.array(new_YTest)"
   ]
  },
  {
   "cell_type": "code",
   "execution_count": 77,
   "metadata": {},
   "outputs": [],
   "source": [
    "y_pred = model.predict(new_XTest)\n",
    "predictions = [round(value) for value in y_pred]"
   ]
  },
  {
   "cell_type": "code",
   "execution_count": 78,
   "metadata": {},
   "outputs": [
    {
     "data": {
      "text/plain": [
       "array([[306664,   1751],\n",
       "       [  5167,    414]])"
      ]
     },
     "execution_count": 78,
     "metadata": {},
     "output_type": "execute_result"
    }
   ],
   "source": [
    "confusion_matrix(new_YTest,predictions)"
   ]
  },
  {
   "cell_type": "code",
   "execution_count": 79,
   "metadata": {},
   "outputs": [],
   "source": [
    "output_directory = \"./model_xgb_save_train_res/\""
   ]
  },
  {
   "cell_type": "code",
   "execution_count": 80,
   "metadata": {},
   "outputs": [],
   "source": [
    "if not os.path.isdir(output_directory):\n",
    "    os.mkdir(output_directory)"
   ]
  },
  {
   "cell_type": "code",
   "execution_count": 81,
   "metadata": {},
   "outputs": [],
   "source": [
    "files = get_files(\"./sepsis_data/train\")"
   ]
  },
  {
   "cell_type": "code",
   "execution_count": 82,
   "metadata": {},
   "outputs": [
    {
     "name": "stderr",
     "output_type": "stream",
     "text": [
      "100%|██████████| 28234/28234 [04:01<00:00, 116.82it/s]\n"
     ]
    }
   ],
   "source": [
    "n = xTrain.shape[0]\n",
    "\n",
    "\n",
    "for idx in tqdm.tqdm(range(n)):\n",
    "    new_XTrain = []\n",
    "    new_YTrain = []\n",
    "    record = xTrain[idx]\n",
    "    imputated = missing_value_imputation(record)\n",
    "    for j in range(imputated.shape[0]):\n",
    "        new_XTrain.append(np.nan_to_num(imputated.loc[j,:]))\n",
    "        new_YTrain.append(yTrain[idx][j])\n",
    "    y_pred_test = model.predict(np.array(new_XTrain))\n",
    "    scores = model.predict_proba(np.array(new_XTrain))\n",
    "#     print(np.shape(scores))\n",
    "    \n",
    "    labels = y_pred_test\n",
    "    scores_res = []\n",
    "    for i,l in enumerate(labels):\n",
    "#         scores_res.append(scores[i,int(l)])\n",
    "        scores_res.append(scores[i,1])\n",
    "        \n",
    "#     print(scores_res)\n",
    "    output_file = os.path.join(output_directory, files[idx])\n",
    "#     print(np.shape(scores_res))\n",
    "#     print(labels)\n",
    "    save_challenge_predictions(output_file,scores_res,labels)\n",
    "# new_XTest = np.array(new_XTest)\n",
    "# new_YTest = np.array(new_YTest)"
   ]
  },
  {
   "cell_type": "code",
   "execution_count": null,
   "metadata": {},
   "outputs": [],
   "source": []
  }
 ],
 "metadata": {
  "kernelspec": {
   "display_name": "Python 3",
   "language": "python",
   "name": "python3"
  },
  "language_info": {
   "codemirror_mode": {
    "name": "ipython",
    "version": 3
   },
   "file_extension": ".py",
   "mimetype": "text/x-python",
   "name": "python",
   "nbconvert_exporter": "python",
   "pygments_lexer": "ipython3",
   "version": "3.7.3"
  }
 },
 "nbformat": 4,
 "nbformat_minor": 2
}
