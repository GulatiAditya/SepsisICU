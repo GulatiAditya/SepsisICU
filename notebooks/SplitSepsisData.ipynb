{
 "cells": [
  {
   "cell_type": "code",
   "execution_count": 68,
   "metadata": {},
   "outputs": [],
   "source": [
    "import numpy as np\n",
    "import os\n",
    "import shutil"
   ]
  },
  {
   "cell_type": "code",
   "execution_count": 2,
   "metadata": {},
   "outputs": [],
   "source": [
    "def load_challenge_data(file):\n",
    "    with open(file, 'r') as f:\n",
    "        header = f.readline().strip()\n",
    "        column_names = header.split('|')\n",
    "        data = np.loadtxt(f, delimiter='|')\n",
    "\n",
    "#     # Ignore SepsisLabel column if present.\n",
    "#     if column_names[-1] == 'SepsisLabel':\n",
    "#         column_names = column_names[:-1]\n",
    "#         data = data[:, :-1]\n",
    "\n",
    "    return data"
   ]
  },
  {
   "cell_type": "code",
   "execution_count": 29,
   "metadata": {},
   "outputs": [
    {
     "name": "stdout",
     "output_type": "stream",
     "text": [
      "Predicting sepsis labels...\n",
      "20336\n",
      "18546\n",
      "1790\n",
      "20336\n"
     ]
    }
   ],
   "source": [
    "input_directory = \"/home/aditya/Desktop/CS229/physionet.org/files/challenge-2019/1.0.0/training/training_setA/\"\n",
    "\n",
    "files = []\n",
    "for f in os.listdir(input_directory):\n",
    "    if os.path.isfile(os.path.join(input_directory, f)) and not f.lower().startswith('.') and f.lower().endswith('psv'):\n",
    "        files.append(f)\n",
    "\n",
    "print('Predicting sepsis labels...')\n",
    "num_files = len(files)\n",
    "\n",
    "print(num_files)\n",
    "\n",
    "all_0_A = []\n",
    "any_1_A = []\n",
    "\n",
    "\n",
    "for i,f in enumerate(files):\n",
    "#     print(i)\n",
    "    input_file = os.path.join(input_directory, f)\n",
    "    data = load_challenge_data(input_file)\n",
    "    \n",
    "    sepsis = data[:,-1]\n",
    "    sum_in = np.sum(sepsis)\n",
    "    \n",
    "    \n",
    "    if sum_in == 0:\n",
    "        all_0_A.append(f)\n",
    "    else:\n",
    "        any_1_A.append(f)\n",
    "\n",
    "print(len(all_0_A))\n",
    "print(len(any_1_A))        \n",
    "print(len(files))\n",
    "\n",
    "\n",
    "\n",
    "\n",
    "#     print(sum_in)"
   ]
  },
  {
   "cell_type": "code",
   "execution_count": null,
   "metadata": {},
   "outputs": [],
   "source": []
  },
  {
   "cell_type": "code",
   "execution_count": 43,
   "metadata": {},
   "outputs": [],
   "source": [
    "np.random.shuffle(all_0_A)\n",
    "np.random.shuffle(any_1_A)\n",
    "\n",
    "br1_0A = int(0.7*len(all_0_A))\n",
    "br2_0A = int(0.8*len(all_0_A))\n",
    "\n",
    "br1_1A = int(0.7*len(any_1_A))\n",
    "br2_1A = int(0.8*len(any_1_A))\n",
    "\n",
    "training_0_A, val_0_A, test_0_A = all_0_A[:br1_0A], all_0_A[br1_0A:br2_0A],all_0_A[br2_0A:]\n",
    "training_1_A, val_1_A, test_1_A = any_1_A[:br1_1A], any_1_A[br1_1A:br2_1A],any_1_A[br2_1A:]"
   ]
  },
  {
   "cell_type": "code",
   "execution_count": 38,
   "metadata": {},
   "outputs": [
    {
     "name": "stdout",
     "output_type": "stream",
     "text": [
      "12982\n",
      "1854\n",
      "3710\n",
      "18546\n"
     ]
    }
   ],
   "source": [
    "print(len(training_0_A))\n",
    "print(len(val_0_A))\n",
    "print(len(test_0_A))\n",
    "print(len(training_0_A)+len(val_0_A)+len(test_0_A))"
   ]
  },
  {
   "cell_type": "code",
   "execution_count": 39,
   "metadata": {},
   "outputs": [
    {
     "name": "stdout",
     "output_type": "stream",
     "text": [
      "1253\n",
      "179\n",
      "358\n",
      "1790\n"
     ]
    }
   ],
   "source": [
    "print(len(training_1_A))\n",
    "print(len(val_1_A))\n",
    "print(len(test_1_A))\n",
    "print(len(training_1_A)+len(val_1_A)+len(test_1_A))"
   ]
  },
  {
   "cell_type": "code",
   "execution_count": 45,
   "metadata": {},
   "outputs": [
    {
     "name": "stdout",
     "output_type": "stream",
     "text": [
      "Predicting sepsis labels...\n",
      "20000\n",
      "18858\n",
      "1142\n",
      "20000\n"
     ]
    }
   ],
   "source": [
    "input_directory = \"/home/aditya/Desktop/CS229/physionet.org/files/challenge-2019/1.0.0/training/training_setB/\"\n",
    "\n",
    "files = []\n",
    "for f in os.listdir(input_directory):\n",
    "    if os.path.isfile(os.path.join(input_directory, f)) and not f.lower().startswith('.') and f.lower().endswith('psv'):\n",
    "        files.append(f)\n",
    "\n",
    "print('Predicting sepsis labels...')\n",
    "num_files = len(files)\n",
    "\n",
    "print(num_files)\n",
    "\n",
    "all_0_B = []\n",
    "any_1_B = []\n",
    "\n",
    "\n",
    "for i,f in enumerate(files):\n",
    "#     print(i)\n",
    "    input_file = os.path.join(input_directory, f)\n",
    "    data = load_challenge_data(input_file)\n",
    "    \n",
    "    sepsis = data[:,-1]\n",
    "    sum_in = np.sum(sepsis)\n",
    "    \n",
    "    \n",
    "    if sum_in == 0:\n",
    "        all_0_B.append(f)\n",
    "    else:\n",
    "        any_1_B.append(f)\n",
    "\n",
    "print(len(all_0_B))\n",
    "print(len(any_1_B))        \n",
    "print(len(files))\n",
    "\n",
    "#     print(sum_in)"
   ]
  },
  {
   "cell_type": "code",
   "execution_count": 47,
   "metadata": {},
   "outputs": [],
   "source": [
    "np.random.shuffle(all_0_B)\n",
    "np.random.shuffle(any_1_B)\n",
    "\n",
    "br1_0B = int(0.7*len(all_0_B))\n",
    "br2_0B = int(0.8*len(all_0_B))\n",
    "\n",
    "br1_1B = int(0.7*len(any_1_B))\n",
    "br2_1B = int(0.8*len(any_1_B))\n",
    "\n",
    "training_0_B, val_0_B, test_0_B = all_0_B[:br1_0B], all_0_B[br1_0B:br2_0B],all_0_B[br2_0B:]\n",
    "training_1_B, val_1_B, test_1_B = any_1_B[:br1_1B], any_1_B[br1_1B:br2_1B],any_1_B[br2_1B:]"
   ]
  },
  {
   "cell_type": "code",
   "execution_count": 48,
   "metadata": {},
   "outputs": [
    {
     "name": "stdout",
     "output_type": "stream",
     "text": [
      "13200\n",
      "1886\n",
      "3772\n",
      "18858\n"
     ]
    }
   ],
   "source": [
    "print(len(training_0_B))\n",
    "print(len(val_0_B))\n",
    "print(len(test_0_B))\n",
    "print(len(training_0_B)+len(val_0_B)+len(test_0_B))"
   ]
  },
  {
   "cell_type": "code",
   "execution_count": 49,
   "metadata": {},
   "outputs": [
    {
     "name": "stdout",
     "output_type": "stream",
     "text": [
      "799\n",
      "114\n",
      "229\n",
      "1142\n"
     ]
    }
   ],
   "source": [
    "print(len(training_1_B))\n",
    "print(len(val_1_B))\n",
    "print(len(test_1_B))\n",
    "print(len(training_1_B)+len(val_1_B)+len(test_1_B))"
   ]
  },
  {
   "cell_type": "code",
   "execution_count": 62,
   "metadata": {},
   "outputs": [],
   "source": [
    "training_setA = training_0_A+training_1_A\n",
    "training_setB = training_0_B+training_1_B"
   ]
  },
  {
   "cell_type": "code",
   "execution_count": 65,
   "metadata": {},
   "outputs": [],
   "source": [
    "val_setA = val_0_A+val_1_A\n",
    "val_setB = val_0_B+val_1_B"
   ]
  },
  {
   "cell_type": "code",
   "execution_count": 66,
   "metadata": {},
   "outputs": [],
   "source": [
    "test_setA = test_0_A+test_1_A\n",
    "test_setB = test_0_B+test_1_B"
   ]
  },
  {
   "cell_type": "code",
   "execution_count": null,
   "metadata": {},
   "outputs": [],
   "source": []
  },
  {
   "cell_type": "code",
   "execution_count": 72,
   "metadata": {},
   "outputs": [],
   "source": [
    "prefixA = \"/home/aditya/Desktop/CS229/physionet.org/files/challenge-2019/1.0.0/training/training_setA/\"\n",
    "out_file = \"/home/aditya/Desktop/CS229/physionet.org/files/challenge-2019/sepsis_data/\"\n",
    "\n",
    "\n",
    "for i in training_setA:\n",
    "    shutil.copyfile(prefixA+i, out_file+\"train/\"+\"A_\"+i)\n",
    "    \n",
    "for i in val_setA:\n",
    "    shutil.copyfile(prefixA+i, out_file+\"val/\"+\"A_\"+i)\n",
    "\n",
    "for i in test_setA:\n",
    "    shutil.copyfile(prefixA+i, out_file+\"test/\"+\"A_\"+i)"
   ]
  },
  {
   "cell_type": "code",
   "execution_count": 74,
   "metadata": {},
   "outputs": [],
   "source": [
    "prefixB = \"/home/aditya/Desktop/CS229/physionet.org/files/challenge-2019/1.0.0/training/training_setB/\"\n",
    "out_file = \"/home/aditya/Desktop/CS229/physionet.org/files/challenge-2019/sepsis_data/\"\n",
    "\n",
    "\n",
    "for i in training_setB:\n",
    "    shutil.copyfile(prefixB+i, out_file+\"train/\"+\"B_\"+i)\n",
    "    \n",
    "for i in val_setB:\n",
    "    shutil.copyfile(prefixB+i, out_file+\"val/\"+\"B_\"+i)\n",
    "\n",
    "for i in test_setB:\n",
    "    shutil.copyfile(prefixB+i, out_file+\"test/\"+\"B_\"+i)"
   ]
  },
  {
   "cell_type": "code",
   "execution_count": 54,
   "metadata": {},
   "outputs": [],
   "source": [
    "validation_set = val_0_A+val_1_A+val_0_B+val_1_B"
   ]
  },
  {
   "cell_type": "code",
   "execution_count": 56,
   "metadata": {},
   "outputs": [],
   "source": [
    "test_set = test_0_A+test_1_A+test_0_B+test_1_B"
   ]
  },
  {
   "cell_type": "code",
   "execution_count": 58,
   "metadata": {},
   "outputs": [
    {
     "data": {
      "text/plain": [
       "8069"
      ]
     },
     "execution_count": 58,
     "metadata": {},
     "output_type": "execute_result"
    }
   ],
   "source": [
    "len(test_set)"
   ]
  },
  {
   "cell_type": "code",
   "execution_count": 59,
   "metadata": {},
   "outputs": [
    {
     "data": {
      "text/plain": [
       "4033"
      ]
     },
     "execution_count": 59,
     "metadata": {},
     "output_type": "execute_result"
    }
   ],
   "source": [
    "len(validation_set)"
   ]
  },
  {
   "cell_type": "code",
   "execution_count": 60,
   "metadata": {},
   "outputs": [
    {
     "data": {
      "text/plain": [
       "28234"
      ]
     },
     "execution_count": 60,
     "metadata": {},
     "output_type": "execute_result"
    }
   ],
   "source": [
    "len(training_set)"
   ]
  },
  {
   "cell_type": "code",
   "execution_count": null,
   "metadata": {},
   "outputs": [],
   "source": []
  }
 ],
 "metadata": {
  "kernelspec": {
   "display_name": "Python 3",
   "language": "python",
   "name": "python3"
  },
  "language_info": {
   "codemirror_mode": {
    "name": "ipython",
    "version": 3
   },
   "file_extension": ".py",
   "mimetype": "text/x-python",
   "name": "python",
   "nbconvert_exporter": "python",
   "pygments_lexer": "ipython3",
   "version": "3.7.3"
  }
 },
 "nbformat": 4,
 "nbformat_minor": 2
}
